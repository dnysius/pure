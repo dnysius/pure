{
 "cells": [
  {
   "cell_type": "markdown",
   "metadata": {
    "slideshow": {
     "slide_type": "slide"
    }
   },
   "source": [
    "- Step motor cannot move more than about 1/4 cm per second, which means a single transducer cannot receive a transmitted signal in the next step\n",
    "\n",
    "- We need to find out actual distance travelled per step - claim is 40 micrometres per step, but when measured with a ruler, it falls short of the inputted distance.\n",
    "\n"
   ]
  },
  {
   "cell_type": "markdown",
   "metadata": {
    "slideshow": {
     "slide_type": "slide"
    }
   },
   "source": [
    "Half angle of flat transducer is given by $\\alpha = 2*\\arcsin{.514c/fD}$, where $\\alpha$ $c$ is speed of sound in medium, $f$ the frequency of transducer, $D$ element diameter."
   ]
  },
  {
   "cell_type": "code",
   "execution_count": 1,
   "metadata": {
    "slideshow": {
     "slide_type": "skip"
    }
   },
   "outputs": [],
   "source": [
    "from data_analysis import Signal\n",
    "import matplotlib.pyplot as plt\n",
    "import numpy as np\n",
    "from os import listdir, mkdir, getcwd\n",
    "from os.path import isfile, isdir, join, dirname\n",
    "from scope import Scope\n",
    "from scanning import Scan, bscan, load_arr, move, d2s"
   ]
  },
  {
   "cell_type": "code",
   "execution_count": 2,
   "metadata": {
    "slideshow": {
     "slide_type": "fragment"
    }
   },
   "outputs": [
    {
     "name": "stdout",
     "output_type": "stream",
     "text": [
      "half opening angle: 1.9611004906218428 degrees\n",
      "Area covered on sample surface 0.09m depth: -0.21875959975813014\n",
      "Area covered on sample surface 0.15m depth: -0.3645993329302169\n"
     ]
    }
   ],
   "source": [
    "c = 1498 ## speed of sound of water, m/s\n",
    "f = 2.25e6 ## frequency of transducer, \n",
    "D = .01 ## diameter of transducer\n",
    "RHS = np.arcsin(.514*c/f/D)\n",
    "alpha = RHS*180/np.pi\n",
    "print('half opening angle: {} degrees'.format(alpha))\n",
    "## find surface area covered\n",
    "A = .09 ## metres\n",
    "print('Area covered on sample surface {0}m depth: {1}'.format(A,A*np.tan(alpha)))\n",
    "A1 = .15\n",
    "print('Area covered on sample surface {0}m depth: {1}'.format(A1, A1*np.tan(alpha)))"
   ]
  },
  {
   "cell_type": "code",
   "execution_count": 3,
   "metadata": {
    "slideshow": {
     "slide_type": "subslide"
    }
   },
   "outputs": [
    {
     "name": "stdout",
     "output_type": "stream",
     "text": [
      "3 in angle: 5.621243066439476\n",
      "3 in, beam spreads 9cm: 0.0013582677165354324, 15cm: 0.0072637795275590535\n",
      "1.5 in angle: 11.13630943118173\n",
      "1.5 in, beam spreads 9cm: 0.010216535433070868, 15cm: 0.022027559055118117\n"
     ]
    }
   ],
   "source": [
    "A9 = .09 ## sample depth, metres\n",
    "A15 = .15  ## sample depth, metres\n",
    "\n",
    "## 3 inch focused transducer half angle and beam spread\n",
    "F = 0.0762  ## focal depth, metres\n",
    "D = .015  ## element diameter\n",
    "alpha3 = 90 - 180/np.pi*(np.arctan(F/(D/2)))\n",
    "print('3 in angle: {}'.format(alpha3))\n",
    "alpha3 = np.deg2rad(alpha3)\n",
    "print('3 in, beam spreads 9cm: {0}, 15cm: {1}'.format((.09-F)*np.tan(alpha3), (.15-F)*np.tan(alpha3)))\n",
    "## 1.5 inch focused transducer half angle and beam spread\n",
    "F = 0.0762/2  ## focal depth, metres\n",
    "D = .015  ## element diameter\n",
    "alpha15 = 90 - 180/np.pi*(np.arctan(F/(D/2)))\n",
    "print('1.5 in angle: {}'.format(alpha15))\n",
    "alpha15 = np.deg2rad(alpha15)\n",
    "print('1.5 in, beam spreads 9cm: {0}, 15cm: {1}'.format((.09-F)*np.tan(alpha15), (.15-F)*np.tan(alpha15)))"
   ]
  },
  {
   "cell_type": "markdown",
   "metadata": {
    "slideshow": {
     "slide_type": "fragment"
    }
   },
   "source": [
    "This calculation is purely geometrical, it has no dependence on frequency. For the flat transducer calculation, higher frequency (as well as larger element diameter) reduces beam spread."
   ]
  },
  {
   "cell_type": "code",
   "execution_count": 4,
   "metadata": {
    "slideshow": {
     "slide_type": "slide"
    }
   },
   "outputs": [],
   "source": [
    "## pass the path to data and the file type (.npy, .npz, or .csv)\n",
    "fpath = \"C:\\\\Users\\\\dionysius\\\\Desktop\\\\PURE\\\\pure\\\\data\\\\30deg\\\\3FOC5in\"\n",
    "f = Signal(fpath, ftype='npy')"
   ]
  },
  {
   "cell_type": "code",
   "execution_count": 5,
   "metadata": {
    "slideshow": {
     "slide_type": "subslide"
    }
   },
   "outputs": [
    {
     "name": "stdout",
     "output_type": "stream",
     "text": [
      "<class 'numpy.ndarray'>\n"
     ]
    },
    {
     "data": {
      "text/plain": [
       "(36, 20000, 2)"
      ]
     },
     "execution_count": 5,
     "metadata": {},
     "output_type": "execute_result"
    }
   ],
   "source": [
    "print(type(f.signal_data))\n",
    "np.shape(f.signal_data)  ## (angle, # of points, time or voltage)"
   ]
  },
  {
   "cell_type": "code",
   "execution_count": 7,
   "metadata": {
    "scrolled": true,
    "slideshow": {
     "slide_type": "subslide"
    }
   },
   "outputs": [
    {
     "data": {
      "image/png": "[encoded data removed]",
      "text/plain": [
       "<Figure size 576x432 with 1 Axes>"
      ]
     },
     "metadata": {},
     "output_type": "display_data"
    }
   ],
   "source": [
    "f.ang_bscan((2500,4000))"
   ]
  },
  {
   "cell_type": "code",
   "execution_count": null,
   "metadata": {},
   "outputs": [],
   "source": [
    "f.analyze_peak(0, 0, -1)"
   ]
  }
 ],
 "metadata": {
  "celltoolbar": "Slideshow",
  "kernelspec": {
   "display_name": "Python 3",
   "language": "python",
   "name": "python3"
  },
  "language_info": {
   "codemirror_mode": {
    "name": "ipython",
    "version": 3
   },
   "file_extension": ".py",
   "mimetype": "text/x-python",
   "name": "python",
   "nbconvert_exporter": "python",
   "pygments_lexer": "ipython3",
   "version": "3.6.5"
  }
 },
 "nbformat": 4,
 "nbformat_minor": 2
}
