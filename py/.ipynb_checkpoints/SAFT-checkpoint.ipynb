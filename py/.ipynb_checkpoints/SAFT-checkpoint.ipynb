{
 "cells": [
  {
   "cell_type": "markdown",
   "metadata": {},
   "source": [
    "Setpinski [19], wavenumber algorithm [16], [17]\n",
    "\n",
    "1. Split the data pre focal region and post focal region\n",
    "\n",
    "2. Prefocal consists of electro-mechanical impulse response and excitation pulse ($s_\\text{pre}(x_n,t)$ and $h_\\text{pre}(t)$) is reversed in axial direction\n",
    "\n",
    "3. 2D FFT on all data to get $S(k_x, \\omega), H(\\omega), P(\\omega)$. Far field directivity pattern of VS is assumed to be $A=jinc^2(k_xa)$ , where $a$ is radius of the flat circular virtual source that can be determined from the simulated beam profile.\n",
    "\n",
    "(see: \n",
    "\n",
    "https://en.wikipedia.org/wiki/Sombrero_function, \n",
    "\n",
    "https://en.wikipedia.org/wiki/Bessel_function#Bessel_functions_of_the_first_kind:_J%CE%B1, \n",
    "\n",
    "https://www.johndcook.com/blog/2012/02/02/how-to-compute-jincx/)\n",
    "\n",
    "4. Image reconstruction\n",
    "$$F(k_x, k_z)=\\mathcal{S}\\left\\{\\exp\\left[j(\\sqrt{4k^2-k_x^2}-2k)z_c\\right]A^*\\omega^2H^*(\\omega)P^*(\\omega)S(k_x,\\omega)\\right\\}$$\n",
    "\n",
    "where $\\mathcal{S}\\{\\cdot\\}$ is the Stolt transformation. $z_c$ is the perpendicular distance from the transducer to the midpoint of the ROI. $k=\\omega/c$. \n",
    "\n",
    "Stolt migration:\n",
    "\n",
    "http://sepwww.stanford.edu/sep/prof/iei/omk/paper_html/node11.html\n",
    "\n",
    "https://www.math.ucdavis.edu/~saito/data/sonar/stolt.pdf\n",
    "\n",
    "5. 2D IFFT on $F_\\text{pre}$ and $F_\\text{post}$ to spatial domain, $F_\\text{pre}$ flipped axially, and then stitched together"
   ]
  },
  {
   "cell_type": "code",
   "execution_count": null,
   "metadata": {},
   "outputs": [],
   "source": []
  }
 ],
 "metadata": {
  "kernelspec": {
   "display_name": "Python 3",
   "language": "python",
   "name": "python3"
  },
  "language_info": {
   "codemirror_mode": {
    "name": "ipython",
    "version": 3
   },
   "file_extension": ".py",
   "mimetype": "text/x-python",
   "name": "python",
   "nbconvert_exporter": "python",
   "pygments_lexer": "ipython3",
   "version": "3.6.5"
  }
 },
 "nbformat": 4,
 "nbformat_minor": 2
}
